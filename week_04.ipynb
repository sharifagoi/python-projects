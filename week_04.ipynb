{
 "cells": [
  {
   "cell_type": "markdown",
   "id": "9012c65e",
   "metadata": {},
   "source": [
    "# Lists  and Loops"
   ]
  },
  {
   "cell_type": "markdown",
   "id": "c180215b",
   "metadata": {},
   "source": [
    "## psuedocode for list"
   ]
  },
  {
   "cell_type": "markdown",
   "id": "503077df",
   "metadata": {},
   "source": [
    "declare a list of numbers,\n",
    "enter the numbers,\n",
    "print the numbers"
   ]
  },
  {
   "cell_type": "code",
   "execution_count": 1,
   "id": "3035ded4",
   "metadata": {},
   "outputs": [
    {
     "name": "stdout",
     "output_type": "stream",
     "text": [
      "[5, 10, 15, 2, 10]\n"
     ]
    }
   ],
   "source": [
    "nums = [5, 10, 15, 2, 10]\n",
    "print(nums)"
   ]
  },
  {
   "cell_type": "markdown",
   "id": "6056c1f2",
   "metadata": {},
   "source": [
    "#### accessing element within a List"
   ]
  },
  {
   "cell_type": "markdown",
   "id": "c917e9a4",
   "metadata": {},
   "source": [
    "# index"
   ]
  },
  {
   "cell_type": "code",
   "execution_count": 2,
   "id": "fc451080",
   "metadata": {},
   "outputs": [
    {
     "name": "stdout",
     "output_type": "stream",
     "text": [
      "10\n",
      "15\n"
     ]
    }
   ],
   "source": [
    "print(nums[1] )\n",
    "num = nums[2]\n",
    "print(num)"
   ]
  },
  {
   "cell_type": "markdown",
   "id": "3f871730",
   "metadata": {},
   "source": [
    "## declaring a List of mixed data types"
   ]
  },
  {
   "cell_type": "markdown",
   "id": "e52769ab",
   "metadata": {},
   "source": [
    "### psuedocode\n",
    "####  declare a list of data,\n",
    "enter the data,\n",
    "print the data"
   ]
  },
  {
   "cell_type": "code",
   "execution_count": 4,
   "id": "e79c96c5",
   "metadata": {},
   "outputs": [
    {
     "name": "stdout",
     "output_type": "stream",
     "text": [
      "[4.3, 'word', True]\n"
     ]
    }
   ],
   "source": [
    "num = 4.3\n",
    "data = [num, \"word\", True]\n",
    "print(data)"
   ]
  },
  {
   "cell_type": "markdown",
   "id": "e975105b",
   "metadata": {},
   "source": [
    "###  Lists Within Lists"
   ]
  },
  {
   "cell_type": "markdown",
   "id": "b29518ab",
   "metadata": {},
   "source": [
    "#### psuedocode\n",
    "declare a list of  data,\n",
    "enter the data,\n",
    "print the data"
   ]
  },
  {
   "cell_type": "code",
   "execution_count": 5,
   "id": "1dddfd65",
   "metadata": {},
   "outputs": [
    {
     "name": "stdout",
     "output_type": "stream",
     "text": [
      "[5, 'book', [34, 'hello'], True]\n",
      "[34, 'hello']\n"
     ]
    }
   ],
   "source": [
    "data = [5, \"book\", [ 34, \"hello\" ], True]    # lists can hold any type\n",
    "print(data)\n",
    "print( data[2] )"
   ]
  },
  {
   "cell_type": "markdown",
   "id": "af86279e",
   "metadata": {},
   "source": [
    "### changing values in a list"
   ]
  },
  {
   "cell_type": "markdown",
   "id": "dc269202",
   "metadata": {},
   "source": [
    "#### working with lists we need to be able to alter values of the items within the list"
   ]
  },
  {
   "cell_type": "markdown",
   "id": "a4864e23",
   "metadata": {},
   "source": [
    "######  psuedocode\n",
    "###### declare list of data\n",
    "###### enter the data\n",
    "###### print the data"
   ]
  },
  {
   "cell_type": "code",
   "execution_count": 5,
   "id": "3992c0db",
   "metadata": {},
   "outputs": [
    {
     "name": "stdout",
     "output_type": "stream",
     "text": [
      "[5, 10, 15, 20]\n",
      "[100, 10, 15, 20]\n"
     ]
    }
   ],
   "source": [
    "data = [5, 10, 15, 20]\n",
    "print(data)\n",
    "data[0] = 100    \n",
    "print(data)"
   ]
  },
  {
   "cell_type": "markdown",
   "id": "9860dca7",
   "metadata": {},
   "source": [
    "#### variable storage"
   ]
  },
  {
   "cell_type": "code",
   "execution_count": 7,
   "id": "8986622b",
   "metadata": {},
   "outputs": [
    {
     "name": "stdout",
     "output_type": "stream",
     "text": [
      "a: [5, 10]\t b: [5, 10]\n",
      "location a[0]: 3026315313520\t location b[0]: 3026315313520\n",
      "a: [20, 10]\t b: [20, 10]\n"
     ]
    }
   ],
   "source": [
    "a = [5, 10]\n",
    "b = a\n",
    "print( \"a: {}\\t b: {}\".format(a, b) )\n",
    "print( \"location a[0]: {}\\t location b[0]: {}\". format( id(a[0]), id(b[0])))\n",
    "a[0] = 20\n",
    "print( \"a: {}\\t b: {}\".format(a, b))"
   ]
  },
  {
   "cell_type": "markdown",
   "id": "d19e01db",
   "metadata": {},
   "source": [
    "#### exercise"
   ]
  },
  {
   "cell_type": "markdown",
   "id": "cae5c218",
   "metadata": {},
   "source": [
    "##### First character : For the following lists, print out each item's first letter. (output should be 'J', 'A', 'S', 'K')\n",
    " names = ['John','Abraham','Sam','Kelly']\n",
    " "
   ]
  },
  {
   "cell_type": "code",
   "execution_count": 12,
   "id": "8d35780c",
   "metadata": {},
   "outputs": [
    {
     "name": "stdout",
     "output_type": "stream",
     "text": [
      "J\n",
      "A\n",
      "S\n",
      "K\n"
     ]
    }
   ],
   "source": [
    "names = ['John', 'Abraham', 'Sam', 'Kelly']\n",
    "for i in names:\n",
    "    print(i[0])\n"
   ]
  },
  {
   "cell_type": "markdown",
   "id": "02d7b88b",
   "metadata": {},
   "source": [
    "## For loop"
   ]
  },
  {
   "cell_type": "markdown",
   "id": "b5f40072",
   "metadata": {},
   "source": [
    "##### writing of for loop\n",
    "1. every loop begins with a keyword \"for\".then you define a temporary variable, sometimes known as index or counter.\n",
    "2. next is the \"in\" keyword.\n",
    "3. last we have a colon to end the statement ."
   ]
  },
  {
   "cell_type": "markdown",
   "id": "67a28552",
   "metadata": {},
   "source": [
    "##### for loop synthax \n",
    "example "
   ]
  },
  {
   "cell_type": "code",
   "execution_count": 19,
   "id": "447c5c1d",
   "metadata": {},
   "outputs": [
    {
     "name": "stdout",
     "output_type": "stream",
     "text": [
      "0\n",
      "1\n",
      "2\n",
      "3\n",
      "4\n"
     ]
    }
   ],
   "source": [
    "for num in range (5) :\n",
    "    print(num)\n",
    "    "
   ]
  },
  {
   "cell_type": "markdown",
   "id": "f1d98405",
   "metadata": {},
   "source": [
    "## Range"
   ]
  },
  {
   "cell_type": "markdown",
   "id": "1cd6009f",
   "metadata": {},
   "source": [
    "range allow us to count from one number to another,\n",
    "to increament or decrement.\n",
    "when used with for loop it gives the ability to loop a certain number of times"
   ]
  },
  {
   "cell_type": "markdown",
   "id": "3455f1cc",
   "metadata": {},
   "source": [
    "example"
   ]
  },
  {
   "cell_type": "code",
   "execution_count": 20,
   "id": "ef2a2b0b",
   "metadata": {},
   "outputs": [
    {
     "name": "stdout",
     "output_type": "stream",
     "text": [
      "value: 2\n",
      "value: 4\n",
      "value: 6\n",
      "value: 8\n"
     ]
    }
   ],
   "source": [
    "# providing the start, stop, and step for the range function.\n",
    "for num in range(2, 10, 2):\n",
    "    print( \"value: {}\".format(num))"
   ]
  },
  {
   "cell_type": "markdown",
   "id": "1267d058",
   "metadata": {},
   "source": [
    "#### Looping by Element"
   ]
  },
  {
   "cell_type": "markdown",
   "id": "7eed99b6",
   "metadata": {},
   "source": [
    "during working with data types that are iterable, meaning they have a collection of elements that can be looped over, we can write the for loop differently"
   ]
  },
  {
   "cell_type": "code",
   "execution_count": 21,
   "id": "db8ae672",
   "metadata": {},
   "outputs": [
    {
     "name": "stdout",
     "output_type": "stream",
     "text": [
      "value: J\n",
      "value: o\n",
      "value: h\n",
      "value: n\n",
      "value:  \n",
      "value: S\n",
      "value: m\n",
      "value: i\n",
      "value: t\n",
      "value: h\n"
     ]
    }
   ],
   "source": [
    "name = \"John Smith\"\n",
    "for letter in name:\n",
    "    print( \"value: {}\".format(letter))"
   ]
  },
  {
   "cell_type": "markdown",
   "id": "1a4b11e3",
   "metadata": {},
   "source": [
    "#### continue statement"
   ]
  },
  {
   "cell_type": "markdown",
   "id": "047e52df",
   "metadata": {},
   "source": [
    "once the continue statement is hit the current iteration stops and goes back to the top of the loop"
   ]
  },
  {
   "cell_type": "code",
   "execution_count": 25,
   "id": "bb07135d",
   "metadata": {},
   "outputs": [
    {
     "name": "stdout",
     "output_type": "stream",
     "text": [
      "0\n",
      "1\n",
      "2\n",
      "4\n"
     ]
    }
   ],
   "source": [
    "for num in range(5):\n",
    "    if num == 3:\n",
    "        continue\n",
    "    print(num)"
   ]
  },
  {
   "cell_type": "markdown",
   "id": "74618253",
   "metadata": {},
   "source": [
    "#### Break Statement"
   ]
  },
  {
   "cell_type": "markdown",
   "id": "6b024fdd",
   "metadata": {},
   "source": [
    "it allow to break loops at any point in time"
   ]
  },
  {
   "cell_type": "code",
   "execution_count": 26,
   "id": "c2f4f39d",
   "metadata": {},
   "outputs": [
    {
     "name": "stdout",
     "output_type": "stream",
     "text": [
      "0\n",
      "1\n",
      "2\n"
     ]
    }
   ],
   "source": [
    "for num in range(5):\n",
    "    if num ==3:\n",
    "        break\n",
    "    print(num)"
   ]
  },
  {
   "cell_type": "code",
   "execution_count": null,
   "id": "aa686cb4",
   "metadata": {},
   "outputs": [],
   "source": []
  }
 ],
 "metadata": {
  "kernelspec": {
   "display_name": "Python 3 (ipykernel)",
   "language": "python",
   "name": "python3"
  },
  "language_info": {
   "codemirror_mode": {
    "name": "ipython",
    "version": 3
   },
   "file_extension": ".py",
   "mimetype": "text/x-python",
   "name": "python",
   "nbconvert_exporter": "python",
   "pygments_lexer": "ipython3",
   "version": "3.10.9"
  }
 },
 "nbformat": 4,
 "nbformat_minor": 5
}
